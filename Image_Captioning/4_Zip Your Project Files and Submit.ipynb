{
 "cells": [
  {
   "cell_type": "markdown",
   "metadata": {},
   "source": [
    "## Project Submission\n",
    "\n",
    "When you are ready to submit your project, meaning you have checked the [rubric](https://review.udacity.com/#!/rubrics/1427/view) and made sure that you have completed all tasks and answered all questions. Then you are ready to compress your files and submit your solution!\n",
    "\n",
    "The following steps assume:\n",
    "1. All cells have been *run* in Notebooks 2 and 3 (and that progress has been saved).\n",
    "2. All questions in those notebooks have been answered.\n",
    "3. Your architecture in `model.py` is your best tested architecture.\n",
    "\n",
    "Please make sure all your work is saved before moving on. You do not need to change any code in these cells; this code is to help you submit your project, only.\n",
    "\n",
    "---\n",
    "\n",
    "The first thing we'll do, is convert your notebooks into `.html` files; these files will save the output of each cell and any code/text that you have modified and saved in those notebooks. Note that the first notebooks are not included because their contents will not affect your project review."
   ]
  },
  {
   "cell_type": "code",
   "execution_count": 2,
   "metadata": {},
   "outputs": [
    {
     "name": "stdout",
     "output_type": "stream",
     "text": [
      "[NbConvertApp] Converting notebook 2_Training.ipynb to html\n",
      "[NbConvertApp] Writing 311187 bytes to 2_Training.html\n",
      "[NbConvertApp] Converting notebook 3_Inference.ipynb to html\n",
      "[NbConvertApp] WARNING | Alternative text is missing on 6 image(s).\n",
      "[NbConvertApp] Writing 3272373 bytes to 3_Inference.html\n"
     ]
    }
   ],
   "source": [
    "!jupyter nbconvert --to 'html' \"2_Training.ipynb\"\n",
    "!jupyter nbconvert --to 'html' \"3_Inference.ipynb\""
   ]
  },
  {
   "cell_type": "markdown",
   "metadata": {},
   "source": [
    "### Zip the project files\n",
    "\n",
    "Next, we'll zip all these notebook files and your `model.py` file into one compressed archive named `project2.zip`.\n",
    "\n",
    "After completing this step you should see this zip file appear in your home directory, where you can download it as seen in the image below, by selecting it from the list and clicking **Download**. This step may take a minute or two to complete.\n",
    "\n",
    "![Jupyter notebook file manager showing various project files, including a selected \"project2.zip\" file and several Python scripts and Jupyter notebooks.](images/download_ex.png)"
   ]
  },
  {
   "cell_type": "code",
   "execution_count": 3,
   "metadata": {},
   "outputs": [
    {
     "name": "stdout",
     "output_type": "stream",
     "text": [
      "/usr/bin/sh: 1: zip: not found\r\n"
     ]
    }
   ],
   "source": [
    "!!apt-get -y update && apt-get install -y zip\n",
    "!zip project2.zip -r . -i@filelist.txt"
   ]
  },
  {
   "cell_type": "markdown",
   "metadata": {},
   "source": [
    "### Submit Your Project\n",
    "\n",
    "After creating and downloading your zip file, click on the `Submit` button and follow the instructions for submitting your `project2.zip` file. Congratulations on completing this project and I hope you enjoyed it!"
   ]
  },
  {
   "cell_type": "code",
   "execution_count": null,
   "metadata": {},
   "outputs": [],
   "source": []
  }
 ],
 "metadata": {
  "kernelspec": {
   "display_name": "Python 3 (ipykernel)",
   "language": "python",
   "name": "python3"
  },
  "language_info": {
   "codemirror_mode": {
    "name": "ipython",
    "version": 3
   },
   "file_extension": ".py",
   "mimetype": "text/x-python",
   "name": "python",
   "nbconvert_exporter": "python",
   "pygments_lexer": "ipython3",
   "version": "3.10.11"
  }
 },
 "nbformat": 4,
 "nbformat_minor": 2
}
